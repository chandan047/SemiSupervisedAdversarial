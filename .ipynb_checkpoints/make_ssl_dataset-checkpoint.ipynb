{
 "cells": [
  {
   "cell_type": "code",
   "execution_count": 13,
   "metadata": {},
   "outputs": [],
   "source": [
    "# libraries for data processing\n",
    "import pandas as pd\n",
    "import numpy as np\n",
    "\n",
    "# libraries for stratified splitting the datasets\n",
    "from sklearn.model_selection import train_test_split\n",
    "\n",
    "# libraries for back translation\n",
    "import time\n",
    "from tqdm import tqdm\n",
    "import textblob\n",
    "from textblob.translate import NotTranslated"
   ]
  },
  {
   "cell_type": "code",
   "execution_count": 2,
   "metadata": {},
   "outputs": [],
   "source": [
    "# home folder for the dataset\n",
    "DATA_HOME = '/dgxhome/cra5302/MMHS'\n",
    "\n",
    "# destination files for data\n",
    "TRAINFILE = 'Train/train.csv'\n",
    "TESTFILE = 'Test/test.csv'\n",
    "UNLABELED = 'Train/unlabeled.csv'"
   ]
  },
  {
   "cell_type": "code",
   "execution_count": 3,
   "metadata": {},
   "outputs": [],
   "source": [
    "# original train data\n",
    "train_df = pd.read_csv(DATA_HOME + \"/Train/trainAD_lbl.csv\")"
   ]
  },
  {
   "cell_type": "code",
   "execution_count": 4,
   "metadata": {},
   "outputs": [
    {
     "data": {
      "text/plain": [
       "125503"
      ]
     },
     "execution_count": 4,
     "metadata": {},
     "output_type": "execute_result"
    }
   ],
   "source": [
    "# number samples in the data\n",
    "train_df.shape[0]"
   ]
  },
  {
   "cell_type": "markdown",
   "metadata": {},
   "source": [
    "Use back-translation technique to obtain paraphrsing samples of original text\n",
    "\n",
    "The samples are translated as follows\n",
    "> English -> French -> English"
   ]
  },
  {
   "cell_type": "code",
   "execution_count": 5,
   "metadata": {},
   "outputs": [],
   "source": [
    "def back_translate(text):\n",
    "    # without this line, textblob blocks further requests after sometime\n",
    "    time.sleep(1) # wait for 500 ms (to avoid sending too much traffic to textblob)\n",
    "    \n",
    "    try:\n",
    "        t_forward = textblob.blob.TextBlob(text)\n",
    "        translated = str(t_forward.translate(to = \"fr\"))\n",
    "\n",
    "        t_backward = textblob.blob.TextBlob(translated)\n",
    "        back_translated = str(t_backward.translate(to = \"en\"))\n",
    "        \n",
    "        return back_translated\n",
    "    \n",
    "    except NotTranslated:\n",
    "        return text"
   ]
  },
  {
   "cell_type": "code",
   "execution_count": 7,
   "metadata": {},
   "outputs": [
    {
     "name": "stderr",
     "output_type": "stream",
     "text": [
      "\n",
      "100%|██████████| 125503/125503 [00:00<00:00, 2111105.15it/s]\n"
     ]
    }
   ],
   "source": [
    "original_text = train_df[\"Text\"].values\n",
    "\n",
    "backtranslated_text = [back_translate(text) for text in tqdm(original_text)]\n",
    "# backtranslated_text = [text for text in tqdm(original_text)]"
   ]
  },
  {
   "cell_type": "code",
   "execution_count": 8,
   "metadata": {},
   "outputs": [],
   "source": [
    "train_df[\"bt_Text\"] = backtranslated_text"
   ]
  },
  {
   "cell_type": "code",
   "execution_count": 9,
   "metadata": {},
   "outputs": [
    {
     "data": {
      "text/html": [
       "<div>\n",
       "<style scoped>\n",
       "    .dataframe tbody tr th:only-of-type {\n",
       "        vertical-align: middle;\n",
       "    }\n",
       "\n",
       "    .dataframe tbody tr th {\n",
       "        vertical-align: top;\n",
       "    }\n",
       "\n",
       "    .dataframe thead th {\n",
       "        text-align: right;\n",
       "    }\n",
       "</style>\n",
       "<table border=\"1\" class=\"dataframe\">\n",
       "  <thead>\n",
       "    <tr style=\"text-align: right;\">\n",
       "      <th></th>\n",
       "      <th>Unnamed: 0</th>\n",
       "      <th>tweet_id</th>\n",
       "      <th>Label</th>\n",
       "      <th>Text</th>\n",
       "      <th>bt_Text</th>\n",
       "    </tr>\n",
       "  </thead>\n",
       "  <tbody>\n",
       "    <tr>\n",
       "      <th>0</th>\n",
       "      <td>0</td>\n",
       "      <td>1023940590382268417</td>\n",
       "      <td>0</td>\n",
       "      <td>@Eamon0303 @CNN Better than the retard in the ...</td>\n",
       "      <td>@Eamon0303 @CNN Better than the retard in the ...</td>\n",
       "    </tr>\n",
       "    <tr>\n",
       "      <th>1</th>\n",
       "      <td>1</td>\n",
       "      <td>1023940826882293760</td>\n",
       "      <td>5</td>\n",
       "      <td>@meloIigya When you’re slowly becoming retarde...</td>\n",
       "      <td>@meloIigya When you’re slowly becoming retarde...</td>\n",
       "    </tr>\n",
       "    <tr>\n",
       "      <th>2</th>\n",
       "      <td>2</td>\n",
       "      <td>1023940897346658307</td>\n",
       "      <td>0</td>\n",
       "      <td>Some of y’all just be throwing darts at SJW wo...</td>\n",
       "      <td>Some of y’all just be throwing darts at SJW wo...</td>\n",
       "    </tr>\n",
       "    <tr>\n",
       "      <th>3</th>\n",
       "      <td>3</td>\n",
       "      <td>1023942343202881536</td>\n",
       "      <td>0</td>\n",
       "      <td>Via: https://t.co/ikFHsOOttG Gracious latina M...</td>\n",
       "      <td>Via: https://t.co/ikFHsOOttG Gracious latina M...</td>\n",
       "    </tr>\n",
       "    <tr>\n",
       "      <th>4</th>\n",
       "      <td>4</td>\n",
       "      <td>1023943177319919616</td>\n",
       "      <td>5</td>\n",
       "      <td>Retard joke. :D https://t.co/gzz0viCBrd</td>\n",
       "      <td>Retard joke. :D https://t.co/gzz0viCBrd</td>\n",
       "    </tr>\n",
       "  </tbody>\n",
       "</table>\n",
       "</div>"
      ],
      "text/plain": [
       "   Unnamed: 0             tweet_id  Label  \\\n",
       "0           0  1023940590382268417      0   \n",
       "1           1  1023940826882293760      5   \n",
       "2           2  1023940897346658307      0   \n",
       "3           3  1023942343202881536      0   \n",
       "4           4  1023943177319919616      5   \n",
       "\n",
       "                                                Text  \\\n",
       "0  @Eamon0303 @CNN Better than the retard in the ...   \n",
       "1  @meloIigya When you’re slowly becoming retarde...   \n",
       "2  Some of y’all just be throwing darts at SJW wo...   \n",
       "3  Via: https://t.co/ikFHsOOttG Gracious latina M...   \n",
       "4            Retard joke. :D https://t.co/gzz0viCBrd   \n",
       "\n",
       "                                             bt_Text  \n",
       "0  @Eamon0303 @CNN Better than the retard in the ...  \n",
       "1  @meloIigya When you’re slowly becoming retarde...  \n",
       "2  Some of y’all just be throwing darts at SJW wo...  \n",
       "3  Via: https://t.co/ikFHsOOttG Gracious latina M...  \n",
       "4            Retard joke. :D https://t.co/gzz0viCBrd  "
      ]
     },
     "execution_count": 9,
     "metadata": {},
     "output_type": "execute_result"
    }
   ],
   "source": [
    "train_df.head()"
   ]
  },
  {
   "cell_type": "markdown",
   "metadata": {},
   "source": [
    "> Split the samples into training and unlabeled samples"
   ]
  },
  {
   "cell_type": "code",
   "execution_count": 10,
   "metadata": {},
   "outputs": [],
   "source": [
    "y_train_df = train_df[\"Label\"].to_frame()"
   ]
  },
  {
   "cell_type": "code",
   "execution_count": 11,
   "metadata": {},
   "outputs": [],
   "source": [
    "X_train, X_test, y_train, y_test = train_test_split(\n",
    "        train_df, y_train_df,stratify=y_train_df, test_size=0.9)"
   ]
  },
  {
   "cell_type": "code",
   "execution_count": 14,
   "metadata": {},
   "outputs": [
    {
     "data": {
      "text/plain": [
       "(array([0, 1, 2, 3, 4, 5]), array([10534,   950,   279,   309,    13,   465]))"
      ]
     },
     "execution_count": 14,
     "metadata": {},
     "output_type": "execute_result"
    }
   ],
   "source": [
    "values, counts = np.unique(y_train, return_counts=True)\n",
    "values, counts"
   ]
  },
  {
   "cell_type": "code",
   "execution_count": 16,
   "metadata": {},
   "outputs": [],
   "source": [
    "X_train.to_csv(DATA_HOME + \"/Train/train.csv\")\n",
    "X_test.to_csv(DATA_HOME + \"/Train/unlabeled.csv\")"
   ]
  },
  {
   "cell_type": "code",
   "execution_count": 21,
   "metadata": {},
   "outputs": [
    {
     "data": {
      "text/html": [
       "<div>\n",
       "<style scoped>\n",
       "    .dataframe tbody tr th:only-of-type {\n",
       "        vertical-align: middle;\n",
       "    }\n",
       "\n",
       "    .dataframe tbody tr th {\n",
       "        vertical-align: top;\n",
       "    }\n",
       "\n",
       "    .dataframe thead th {\n",
       "        text-align: right;\n",
       "    }\n",
       "</style>\n",
       "<table border=\"1\" class=\"dataframe\">\n",
       "  <thead>\n",
       "    <tr style=\"text-align: right;\">\n",
       "      <th></th>\n",
       "      <th>Unnamed: 0</th>\n",
       "      <th>tweet_id</th>\n",
       "      <th>Label</th>\n",
       "      <th>Text</th>\n",
       "      <th>bt_Text</th>\n",
       "    </tr>\n",
       "  </thead>\n",
       "  <tbody>\n",
       "    <tr>\n",
       "      <th>102351</th>\n",
       "      <td>102351</td>\n",
       "      <td>1114500110514360322</td>\n",
       "      <td>0</td>\n",
       "      <td>Yeah thought so, what a fucking dumbass. Retar...</td>\n",
       "      <td>Yeah thought so, what a fucking dumbass. Retar...</td>\n",
       "    </tr>\n",
       "    <tr>\n",
       "      <th>65768</th>\n",
       "      <td>65768</td>\n",
       "      <td>1108265761296900096</td>\n",
       "      <td>3</td>\n",
       "      <td>fuck this fat faggot bitch https://t.co/9lCWnX...</td>\n",
       "      <td>fuck this fat faggot bitch https://t.co/9lCWnX...</td>\n",
       "    </tr>\n",
       "    <tr>\n",
       "      <th>76198</th>\n",
       "      <td>76198</td>\n",
       "      <td>1109267226471862272</td>\n",
       "      <td>0</td>\n",
       "      <td>@ZacheryMcwhert3 @ballistic108 @alpharadtv Are...</td>\n",
       "      <td>@ZacheryMcwhert3 @ballistic108 @alpharadtv Are...</td>\n",
       "    </tr>\n",
       "    <tr>\n",
       "      <th>3756</th>\n",
       "      <td>3756</td>\n",
       "      <td>1036316277441286144</td>\n",
       "      <td>0</td>\n",
       "      <td>The \"future\" is here and it looks retarded. ht...</td>\n",
       "      <td>The \"future\" is here and it looks retarded. ht...</td>\n",
       "    </tr>\n",
       "    <tr>\n",
       "      <th>31469</th>\n",
       "      <td>31469</td>\n",
       "      <td>1061330486805585921</td>\n",
       "      <td>0</td>\n",
       "      <td>@byronf1 R u retarded or what? https://t.co/N4...</td>\n",
       "      <td>@byronf1 R u retarded or what? https://t.co/N4...</td>\n",
       "    </tr>\n",
       "  </tbody>\n",
       "</table>\n",
       "</div>"
      ],
      "text/plain": [
       "        Unnamed: 0             tweet_id  Label  \\\n",
       "102351      102351  1114500110514360322      0   \n",
       "65768        65768  1108265761296900096      3   \n",
       "76198        76198  1109267226471862272      0   \n",
       "3756          3756  1036316277441286144      0   \n",
       "31469        31469  1061330486805585921      0   \n",
       "\n",
       "                                                     Text  \\\n",
       "102351  Yeah thought so, what a fucking dumbass. Retar...   \n",
       "65768   fuck this fat faggot bitch https://t.co/9lCWnX...   \n",
       "76198   @ZacheryMcwhert3 @ballistic108 @alpharadtv Are...   \n",
       "3756    The \"future\" is here and it looks retarded. ht...   \n",
       "31469   @byronf1 R u retarded or what? https://t.co/N4...   \n",
       "\n",
       "                                                  bt_Text  \n",
       "102351  Yeah thought so, what a fucking dumbass. Retar...  \n",
       "65768   fuck this fat faggot bitch https://t.co/9lCWnX...  \n",
       "76198   @ZacheryMcwhert3 @ballistic108 @alpharadtv Are...  \n",
       "3756    The \"future\" is here and it looks retarded. ht...  \n",
       "31469   @byronf1 R u retarded or what? https://t.co/N4...  "
      ]
     },
     "execution_count": 21,
     "metadata": {},
     "output_type": "execute_result"
    }
   ],
   "source": [
    "X_train.head()"
   ]
  },
  {
   "cell_type": "code",
   "execution_count": 18,
   "metadata": {},
   "outputs": [
    {
     "data": {
      "text/plain": [
       "(112953, 5)"
      ]
     },
     "execution_count": 18,
     "metadata": {},
     "output_type": "execute_result"
    }
   ],
   "source": [
    "X_test.shape"
   ]
  },
  {
   "cell_type": "code",
   "execution_count": null,
   "metadata": {},
   "outputs": [],
   "source": []
  },
  {
   "cell_type": "code",
   "execution_count": null,
   "metadata": {},
   "outputs": [],
   "source": []
  },
  {
   "cell_type": "code",
   "execution_count": 20,
   "metadata": {},
   "outputs": [
    {
     "name": "stderr",
     "output_type": "stream",
     "text": [
      "\n",
      "100%|██████████| 8411/8411 [00:00<00:00, 1501715.09it/s]\n"
     ]
    }
   ],
   "source": [
    "test_df = pd.read_csv(DATA_HOME + \"/Test/testAD_lbl.csv\")\n",
    "original_text = test_df[\"Text\"].values\n",
    "# backtranslated_text = [back_translate(text) for text in tqdm(original_text)]\n",
    "backtranslated_text = [text for text in tqdm(original_text)]\n",
    "test_df[\"bt_Text\"] = backtranslated_text\n",
    "test_df.to_csv(DATA_HOME + \"/Test/test.csv\")"
   ]
  },
  {
   "cell_type": "code",
   "execution_count": null,
   "metadata": {},
   "outputs": [],
   "source": []
  }
 ],
 "metadata": {
  "kernelspec": {
   "display_name": "Python (torch36)",
   "language": "python",
   "name": "torch36"
  },
  "language_info": {
   "codemirror_mode": {
    "name": "ipython",
    "version": 3
   },
   "file_extension": ".py",
   "mimetype": "text/x-python",
   "name": "python",
   "nbconvert_exporter": "python",
   "pygments_lexer": "ipython3",
   "version": "3.7.5"
  }
 },
 "nbformat": 4,
 "nbformat_minor": 2
}
